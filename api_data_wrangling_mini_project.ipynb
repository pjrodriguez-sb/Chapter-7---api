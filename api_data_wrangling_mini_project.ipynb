{
 "cells": [
  {
   "cell_type": "markdown",
   "metadata": {},
   "source": [
    "This exercise will require you to pull some data from the Qunadl API. Qaundl is currently the most widely used aggregator of financial market data."
   ]
  },
  {
   "cell_type": "markdown",
   "metadata": {},
   "source": [
    "As a first step, you will need to register a free account on the http://www.quandl.com website."
   ]
  },
  {
   "cell_type": "markdown",
   "metadata": {},
   "source": [
    "After you register, you will be provided with a unique API key, that you should store:"
   ]
  },
  {
   "cell_type": "code",
   "execution_count": 26,
   "metadata": {
    "collapsed": true
   },
   "outputs": [],
   "source": [
    "# Store the API key as a string - according to PEP8, constants are always named in all upper case\n",
    "API_KEY = 'qvb_rvkjYJxbTztsEsX_'"
   ]
  },
  {
   "cell_type": "markdown",
   "metadata": {},
   "source": [
    "Qaundl has a large number of data sources, but, unfortunately, most of them require a Premium subscription. Still, there are also a good number of free datasets."
   ]
  },
  {
   "cell_type": "markdown",
   "metadata": {},
   "source": [
    "For this mini project, we will focus on equities data from the Frankfurt Stock Exhange (FSE), which is available for free. We'll try and analyze the stock prices of a company called Carl Zeiss Meditec, which manufactures tools for eye examinations, as well as medical lasers for laser eye surgery: https://www.zeiss.com/meditec/int/home.html. The company is listed under the stock ticker AFX_X."
   ]
  },
  {
   "cell_type": "markdown",
   "metadata": {},
   "source": [
    "You can find the detailed Quandl API instructions here: https://docs.quandl.com/docs/time-series"
   ]
  },
  {
   "cell_type": "markdown",
   "metadata": {},
   "source": [
    "While there is a dedicated Python package for connecting to the Quandl API, we would prefer that you use the *requests* package, which can be easily downloaded using *pip* or *conda*. You can find the documentation for the package here: http://docs.python-requests.org/en/master/ "
   ]
  },
  {
   "cell_type": "markdown",
   "metadata": {},
   "source": [
    "Finally, apart from the *requests* package, you are encouraged to not use any third party Python packages, such as *pandas*, and instead focus on what's available in the Python Standard Library (the *collections* module might come in handy: https://pymotw.com/3/collections/ ).\n",
    "Also, since you won't have access to DataFrames, you are encouraged to us Python's native data structures - preferably dictionaries, though some questions can also be answered using lists.\n",
    "You can read more on these data structures here: https://docs.python.org/3/tutorial/datastructures.html"
   ]
  },
  {
   "cell_type": "markdown",
   "metadata": {},
   "source": [
    "Keep in mind that the JSON responses you will be getting from the API map almost one-to-one to Python's dictionaries. Unfortunately, they can be very nested, so make sure you read up on indexing dictionaries in the documentation provided above."
   ]
  },
  {
   "cell_type": "code",
   "execution_count": 27,
   "metadata": {
    "collapsed": true
   },
   "outputs": [],
   "source": [
    "# First, import the relevant modules\n",
    "import pandas as pd\n",
    "import numpy as np\n",
    "import json\n",
    "import requests\n",
    "import quandl\n"
   ]
  },
  {
   "cell_type": "code",
   "execution_count": 28,
   "metadata": {
    "collapsed": true,
    "tags": []
   },
   "outputs": [
    {
     "output_type": "stream",
     "name": "stdout",
     "text": [
      "<Response [200]>\n"
     ]
    }
   ],
   "source": [
    "# Now, call the Quandl API and pull out a small sample of the data (only one day) to get a glimpse\n",
    "# into the JSON structure that will be returned\n",
    "url = 'https://www.quandl.com/api/v3/datasets/FSE/AFX_X.json?api_key=qvb_rvkjYJxbTztsEsX_'\n",
    "\n",
    "r = requests.get(url)\n",
    "print(r)\n"
   ]
  },
  {
   "cell_type": "code",
   "execution_count": 29,
   "metadata": {
    "collapsed": true,
    "tags": []
   },
   "outputs": [
    {
     "output_type": "execute_result",
     "data": {
      "text/plain": [
       "             Open   High    Low  Close  Change  Traded Volume  Turnover  \\\n",
       "Date                                                                      \n",
       "2000-06-07    NaN    NaN    NaN   38.0     NaN            0.0       NaN   \n",
       "2000-06-08    NaN    NaN    NaN   38.0     NaN            0.0       NaN   \n",
       "2000-06-09    NaN    NaN    NaN   45.0     NaN            0.0       NaN   \n",
       "2000-06-12    NaN    NaN    NaN   45.0     NaN            0.0       NaN   \n",
       "2000-06-13    NaN    NaN    NaN   45.0     NaN            0.0       NaN   \n",
       "...           ...    ...    ...    ...     ...            ...       ...   \n",
       "2020-11-25  111.4  111.4  110.1  110.1     NaN          294.0   32435.8   \n",
       "2020-11-26  111.3  112.0  110.5  111.6     NaN          254.0   28367.5   \n",
       "2020-11-27  111.0  111.5  109.5  111.2     NaN          155.0   17168.5   \n",
       "2020-11-30  111.0  113.6  111.0  112.1     NaN          315.0   35111.5   \n",
       "2020-12-01  112.2  112.2  111.5  112.0     NaN           51.0    5703.0   \n",
       "\n",
       "           Last Price of the Day Daily Traded Units  Daily Turnover  \n",
       "Date                                                                 \n",
       "2000-06-07                  None               None             0.0  \n",
       "2000-06-08                  None               None             0.0  \n",
       "2000-06-09                  None               None             0.0  \n",
       "2000-06-12                  None               None             0.0  \n",
       "2000-06-13                  None               None             0.0  \n",
       "...                          ...                ...             ...  \n",
       "2020-11-25                  None               None             NaN  \n",
       "2020-11-26                  None               None             NaN  \n",
       "2020-11-27                  None               None             NaN  \n",
       "2020-11-30                  None               None             NaN  \n",
       "2020-12-01                  None               None             NaN  \n",
       "\n",
       "[5268 rows x 10 columns]"
      ],
      "text/html": "<div>\n<style scoped>\n    .dataframe tbody tr th:only-of-type {\n        vertical-align: middle;\n    }\n\n    .dataframe tbody tr th {\n        vertical-align: top;\n    }\n\n    .dataframe thead th {\n        text-align: right;\n    }\n</style>\n<table border=\"1\" class=\"dataframe\">\n  <thead>\n    <tr style=\"text-align: right;\">\n      <th></th>\n      <th>Open</th>\n      <th>High</th>\n      <th>Low</th>\n      <th>Close</th>\n      <th>Change</th>\n      <th>Traded Volume</th>\n      <th>Turnover</th>\n      <th>Last Price of the Day</th>\n      <th>Daily Traded Units</th>\n      <th>Daily Turnover</th>\n    </tr>\n    <tr>\n      <th>Date</th>\n      <th></th>\n      <th></th>\n      <th></th>\n      <th></th>\n      <th></th>\n      <th></th>\n      <th></th>\n      <th></th>\n      <th></th>\n      <th></th>\n    </tr>\n  </thead>\n  <tbody>\n    <tr>\n      <th>2000-06-07</th>\n      <td>NaN</td>\n      <td>NaN</td>\n      <td>NaN</td>\n      <td>38.0</td>\n      <td>NaN</td>\n      <td>0.0</td>\n      <td>NaN</td>\n      <td>None</td>\n      <td>None</td>\n      <td>0.0</td>\n    </tr>\n    <tr>\n      <th>2000-06-08</th>\n      <td>NaN</td>\n      <td>NaN</td>\n      <td>NaN</td>\n      <td>38.0</td>\n      <td>NaN</td>\n      <td>0.0</td>\n      <td>NaN</td>\n      <td>None</td>\n      <td>None</td>\n      <td>0.0</td>\n    </tr>\n    <tr>\n      <th>2000-06-09</th>\n      <td>NaN</td>\n      <td>NaN</td>\n      <td>NaN</td>\n      <td>45.0</td>\n      <td>NaN</td>\n      <td>0.0</td>\n      <td>NaN</td>\n      <td>None</td>\n      <td>None</td>\n      <td>0.0</td>\n    </tr>\n    <tr>\n      <th>2000-06-12</th>\n      <td>NaN</td>\n      <td>NaN</td>\n      <td>NaN</td>\n      <td>45.0</td>\n      <td>NaN</td>\n      <td>0.0</td>\n      <td>NaN</td>\n      <td>None</td>\n      <td>None</td>\n      <td>0.0</td>\n    </tr>\n    <tr>\n      <th>2000-06-13</th>\n      <td>NaN</td>\n      <td>NaN</td>\n      <td>NaN</td>\n      <td>45.0</td>\n      <td>NaN</td>\n      <td>0.0</td>\n      <td>NaN</td>\n      <td>None</td>\n      <td>None</td>\n      <td>0.0</td>\n    </tr>\n    <tr>\n      <th>...</th>\n      <td>...</td>\n      <td>...</td>\n      <td>...</td>\n      <td>...</td>\n      <td>...</td>\n      <td>...</td>\n      <td>...</td>\n      <td>...</td>\n      <td>...</td>\n      <td>...</td>\n    </tr>\n    <tr>\n      <th>2020-11-25</th>\n      <td>111.4</td>\n      <td>111.4</td>\n      <td>110.1</td>\n      <td>110.1</td>\n      <td>NaN</td>\n      <td>294.0</td>\n      <td>32435.8</td>\n      <td>None</td>\n      <td>None</td>\n      <td>NaN</td>\n    </tr>\n    <tr>\n      <th>2020-11-26</th>\n      <td>111.3</td>\n      <td>112.0</td>\n      <td>110.5</td>\n      <td>111.6</td>\n      <td>NaN</td>\n      <td>254.0</td>\n      <td>28367.5</td>\n      <td>None</td>\n      <td>None</td>\n      <td>NaN</td>\n    </tr>\n    <tr>\n      <th>2020-11-27</th>\n      <td>111.0</td>\n      <td>111.5</td>\n      <td>109.5</td>\n      <td>111.2</td>\n      <td>NaN</td>\n      <td>155.0</td>\n      <td>17168.5</td>\n      <td>None</td>\n      <td>None</td>\n      <td>NaN</td>\n    </tr>\n    <tr>\n      <th>2020-11-30</th>\n      <td>111.0</td>\n      <td>113.6</td>\n      <td>111.0</td>\n      <td>112.1</td>\n      <td>NaN</td>\n      <td>315.0</td>\n      <td>35111.5</td>\n      <td>None</td>\n      <td>None</td>\n      <td>NaN</td>\n    </tr>\n    <tr>\n      <th>2020-12-01</th>\n      <td>112.2</td>\n      <td>112.2</td>\n      <td>111.5</td>\n      <td>112.0</td>\n      <td>NaN</td>\n      <td>51.0</td>\n      <td>5703.0</td>\n      <td>None</td>\n      <td>None</td>\n      <td>NaN</td>\n    </tr>\n  </tbody>\n</table>\n<p>5268 rows × 10 columns</p>\n</div>"
     },
     "metadata": {},
     "execution_count": 29
    }
   ],
   "source": [
    "# Inspect the JSON structure of the object you created, and take note of how nested it is,\n",
    "# as well as the overall structure\n",
    "data = quandl.get(\"FSE/AFX_X\", authtoken=\"qvb_rvkjYJxbTztsEsX_\")\n",
    "data\n"
   ]
  },
  {
   "cell_type": "markdown",
   "metadata": {},
   "source": [
    "These are your tasks for this mini project:\n",
    "\n",
    "1. Collect data from the Franfurt Stock Exchange, for the ticker AFX_X, for the whole year 2017 (keep in mind that the date format is YYYY-MM-DD).\n",
    "2. Convert the returned JSON object into a Python dictionary.\n",
    "3. Calculate what the highest and lowest opening prices were for the stock in this period.\n",
    "4. What was the largest change in any one day (based on High and Low price)?\n",
    "5. What was the largest change between any two days (based on Closing Price)?\n",
    "6. What was the average daily trading volume during this year?\n",
    "7. (Optional) What was the median trading volume during this year. (Note: you may need to implement your own function for calculating the median.)"
   ]
  },
  {
   "cell_type": "code",
   "execution_count": 37,
   "metadata": {},
   "outputs": [
    {
     "output_type": "execute_result",
     "data": {
      "text/plain": [
       "        Date  Open  High  Low  Close  Change  Traded Volume  Turnover  \\\n",
       "0 2000-06-07   NaN   NaN  NaN   38.0     NaN            0.0       NaN   \n",
       "1 2000-06-08   NaN   NaN  NaN   38.0     NaN            0.0       NaN   \n",
       "2 2000-06-09   NaN   NaN  NaN   45.0     NaN            0.0       NaN   \n",
       "3 2000-06-12   NaN   NaN  NaN   45.0     NaN            0.0       NaN   \n",
       "4 2000-06-13   NaN   NaN  NaN   45.0     NaN            0.0       NaN   \n",
       "\n",
       "  Last Price of the Day Daily Traded Units  Daily Turnover  \n",
       "0                  None               None             0.0  \n",
       "1                  None               None             0.0  \n",
       "2                  None               None             0.0  \n",
       "3                  None               None             0.0  \n",
       "4                  None               None             0.0  "
      ],
      "text/html": "<div>\n<style scoped>\n    .dataframe tbody tr th:only-of-type {\n        vertical-align: middle;\n    }\n\n    .dataframe tbody tr th {\n        vertical-align: top;\n    }\n\n    .dataframe thead th {\n        text-align: right;\n    }\n</style>\n<table border=\"1\" class=\"dataframe\">\n  <thead>\n    <tr style=\"text-align: right;\">\n      <th></th>\n      <th>Date</th>\n      <th>Open</th>\n      <th>High</th>\n      <th>Low</th>\n      <th>Close</th>\n      <th>Change</th>\n      <th>Traded Volume</th>\n      <th>Turnover</th>\n      <th>Last Price of the Day</th>\n      <th>Daily Traded Units</th>\n      <th>Daily Turnover</th>\n    </tr>\n  </thead>\n  <tbody>\n    <tr>\n      <th>0</th>\n      <td>2000-06-07</td>\n      <td>NaN</td>\n      <td>NaN</td>\n      <td>NaN</td>\n      <td>38.0</td>\n      <td>NaN</td>\n      <td>0.0</td>\n      <td>NaN</td>\n      <td>None</td>\n      <td>None</td>\n      <td>0.0</td>\n    </tr>\n    <tr>\n      <th>1</th>\n      <td>2000-06-08</td>\n      <td>NaN</td>\n      <td>NaN</td>\n      <td>NaN</td>\n      <td>38.0</td>\n      <td>NaN</td>\n      <td>0.0</td>\n      <td>NaN</td>\n      <td>None</td>\n      <td>None</td>\n      <td>0.0</td>\n    </tr>\n    <tr>\n      <th>2</th>\n      <td>2000-06-09</td>\n      <td>NaN</td>\n      <td>NaN</td>\n      <td>NaN</td>\n      <td>45.0</td>\n      <td>NaN</td>\n      <td>0.0</td>\n      <td>NaN</td>\n      <td>None</td>\n      <td>None</td>\n      <td>0.0</td>\n    </tr>\n    <tr>\n      <th>3</th>\n      <td>2000-06-12</td>\n      <td>NaN</td>\n      <td>NaN</td>\n      <td>NaN</td>\n      <td>45.0</td>\n      <td>NaN</td>\n      <td>0.0</td>\n      <td>NaN</td>\n      <td>None</td>\n      <td>None</td>\n      <td>0.0</td>\n    </tr>\n    <tr>\n      <th>4</th>\n      <td>2000-06-13</td>\n      <td>NaN</td>\n      <td>NaN</td>\n      <td>NaN</td>\n      <td>45.0</td>\n      <td>NaN</td>\n      <td>0.0</td>\n      <td>NaN</td>\n      <td>None</td>\n      <td>None</td>\n      <td>0.0</td>\n    </tr>\n  </tbody>\n</table>\n</div>"
     },
     "metadata": {},
     "execution_count": 37
    }
   ],
   "source": [
    "df = pd.DataFrame(data)\n",
    "df.head()\n",
    "df = df.reset_index()\n",
    "df.head()"
   ]
  },
  {
   "cell_type": "code",
   "execution_count": 40,
   "metadata": {
    "collapsed": true
   },
   "outputs": [
    {
     "output_type": "execute_result",
     "data": {
      "text/plain": [
       "           Date   Open   High    Low  Close  Change  Traded Volume   Turnover  \\\n",
       "4286 2017-01-02  34.99  35.94  34.99  35.80     NaN        44700.0  1590561.0   \n",
       "4287 2017-01-03  35.90  35.93  35.34  35.48     NaN        70618.0  2515473.0   \n",
       "4288 2017-01-04  35.48  35.51  34.75  35.19     NaN        54408.0  1906810.0   \n",
       "4289 2017-01-05  35.02  35.20  34.73  35.06     NaN        48412.0  1692326.0   \n",
       "4290 2017-01-06  34.91  35.21  34.91  35.04     NaN        27507.0   964046.0   \n",
       "...         ...    ...    ...    ...    ...     ...            ...        ...   \n",
       "4536 2017-12-21  51.16  51.52  50.90  51.40     NaN       120649.0  6179433.0   \n",
       "4537 2017-12-22  51.05  51.50  50.92  51.32     NaN        71165.0  3641949.0   \n",
       "4538 2017-12-27  51.45  51.89  50.76  51.82     NaN        57452.0  2957018.0   \n",
       "4539 2017-12-28  51.65  51.82  51.43  51.60     NaN        40660.0  2099024.0   \n",
       "4540 2017-12-29  51.76  51.94  51.45  51.76     NaN        34640.0  1792304.0   \n",
       "\n",
       "     Last Price of the Day Daily Traded Units  Daily Turnover  \n",
       "4286                  None               None             NaN  \n",
       "4287                  None               None             NaN  \n",
       "4288                  None               None             NaN  \n",
       "4289                  None               None             NaN  \n",
       "4290                  None               None             NaN  \n",
       "...                    ...                ...             ...  \n",
       "4536                  None               None             NaN  \n",
       "4537                  None               None             NaN  \n",
       "4538                  None               None             NaN  \n",
       "4539                  None               None             NaN  \n",
       "4540                  None               None             NaN  \n",
       "\n",
       "[255 rows x 11 columns]"
      ],
      "text/html": "<div>\n<style scoped>\n    .dataframe tbody tr th:only-of-type {\n        vertical-align: middle;\n    }\n\n    .dataframe tbody tr th {\n        vertical-align: top;\n    }\n\n    .dataframe thead th {\n        text-align: right;\n    }\n</style>\n<table border=\"1\" class=\"dataframe\">\n  <thead>\n    <tr style=\"text-align: right;\">\n      <th></th>\n      <th>Date</th>\n      <th>Open</th>\n      <th>High</th>\n      <th>Low</th>\n      <th>Close</th>\n      <th>Change</th>\n      <th>Traded Volume</th>\n      <th>Turnover</th>\n      <th>Last Price of the Day</th>\n      <th>Daily Traded Units</th>\n      <th>Daily Turnover</th>\n    </tr>\n  </thead>\n  <tbody>\n    <tr>\n      <th>4286</th>\n      <td>2017-01-02</td>\n      <td>34.99</td>\n      <td>35.94</td>\n      <td>34.99</td>\n      <td>35.80</td>\n      <td>NaN</td>\n      <td>44700.0</td>\n      <td>1590561.0</td>\n      <td>None</td>\n      <td>None</td>\n      <td>NaN</td>\n    </tr>\n    <tr>\n      <th>4287</th>\n      <td>2017-01-03</td>\n      <td>35.90</td>\n      <td>35.93</td>\n      <td>35.34</td>\n      <td>35.48</td>\n      <td>NaN</td>\n      <td>70618.0</td>\n      <td>2515473.0</td>\n      <td>None</td>\n      <td>None</td>\n      <td>NaN</td>\n    </tr>\n    <tr>\n      <th>4288</th>\n      <td>2017-01-04</td>\n      <td>35.48</td>\n      <td>35.51</td>\n      <td>34.75</td>\n      <td>35.19</td>\n      <td>NaN</td>\n      <td>54408.0</td>\n      <td>1906810.0</td>\n      <td>None</td>\n      <td>None</td>\n      <td>NaN</td>\n    </tr>\n    <tr>\n      <th>4289</th>\n      <td>2017-01-05</td>\n      <td>35.02</td>\n      <td>35.20</td>\n      <td>34.73</td>\n      <td>35.06</td>\n      <td>NaN</td>\n      <td>48412.0</td>\n      <td>1692326.0</td>\n      <td>None</td>\n      <td>None</td>\n      <td>NaN</td>\n    </tr>\n    <tr>\n      <th>4290</th>\n      <td>2017-01-06</td>\n      <td>34.91</td>\n      <td>35.21</td>\n      <td>34.91</td>\n      <td>35.04</td>\n      <td>NaN</td>\n      <td>27507.0</td>\n      <td>964046.0</td>\n      <td>None</td>\n      <td>None</td>\n      <td>NaN</td>\n    </tr>\n    <tr>\n      <th>...</th>\n      <td>...</td>\n      <td>...</td>\n      <td>...</td>\n      <td>...</td>\n      <td>...</td>\n      <td>...</td>\n      <td>...</td>\n      <td>...</td>\n      <td>...</td>\n      <td>...</td>\n      <td>...</td>\n    </tr>\n    <tr>\n      <th>4536</th>\n      <td>2017-12-21</td>\n      <td>51.16</td>\n      <td>51.52</td>\n      <td>50.90</td>\n      <td>51.40</td>\n      <td>NaN</td>\n      <td>120649.0</td>\n      <td>6179433.0</td>\n      <td>None</td>\n      <td>None</td>\n      <td>NaN</td>\n    </tr>\n    <tr>\n      <th>4537</th>\n      <td>2017-12-22</td>\n      <td>51.05</td>\n      <td>51.50</td>\n      <td>50.92</td>\n      <td>51.32</td>\n      <td>NaN</td>\n      <td>71165.0</td>\n      <td>3641949.0</td>\n      <td>None</td>\n      <td>None</td>\n      <td>NaN</td>\n    </tr>\n    <tr>\n      <th>4538</th>\n      <td>2017-12-27</td>\n      <td>51.45</td>\n      <td>51.89</td>\n      <td>50.76</td>\n      <td>51.82</td>\n      <td>NaN</td>\n      <td>57452.0</td>\n      <td>2957018.0</td>\n      <td>None</td>\n      <td>None</td>\n      <td>NaN</td>\n    </tr>\n    <tr>\n      <th>4539</th>\n      <td>2017-12-28</td>\n      <td>51.65</td>\n      <td>51.82</td>\n      <td>51.43</td>\n      <td>51.60</td>\n      <td>NaN</td>\n      <td>40660.0</td>\n      <td>2099024.0</td>\n      <td>None</td>\n      <td>None</td>\n      <td>NaN</td>\n    </tr>\n    <tr>\n      <th>4540</th>\n      <td>2017-12-29</td>\n      <td>51.76</td>\n      <td>51.94</td>\n      <td>51.45</td>\n      <td>51.76</td>\n      <td>NaN</td>\n      <td>34640.0</td>\n      <td>1792304.0</td>\n      <td>None</td>\n      <td>None</td>\n      <td>NaN</td>\n    </tr>\n  </tbody>\n</table>\n<p>255 rows × 11 columns</p>\n</div>"
     },
     "metadata": {},
     "execution_count": 40
    }
   ],
   "source": [
    "start_date = '2017-01-01'\n",
    "end_date = '2017-12-31'\n",
    "mask = (df.Date > start_date) & (df.Date <= end_date)\n",
    "df_2017 = df.loc[mask]\n",
    "df_2017\n"
   ]
  },
  {
   "cell_type": "code",
   "execution_count": 41,
   "metadata": {},
   "outputs": [
    {
     "output_type": "stream",
     "name": "stdout",
     "text": [
      "The highest opening prices for the stock was 53.11 and the lowest was 34.0\n"
     ]
    }
   ],
   "source": [
    "#3. Calculate what the highest and lowest opening prices were for the stock in this period.\n",
    "min_price = df_2017['Open'].min()\n",
    "max_price = df_2017['Open'].max()\n",
    "print('The highest opening prices for the stock was', max_price, 'and the lowest was', min_price)"
   ]
  },
  {
   "cell_type": "code",
   "execution_count": 46,
   "metadata": {},
   "outputs": [
    {
     "output_type": "stream",
     "name": "stdout",
     "text": [
      "The higest change based on high and low price is 19.11\n"
     ]
    }
   ],
   "source": [
    "# 4. What was the largest change in any one day (based on High and Low price)?\n",
    "df_2017['Max-i'] = df_2017['Open'].max() - df_2017['Open']\n",
    "df_2017['Min-i'] = df_2017['Open'] - df_2017['Open'].min()\n",
    "print('The highest change based on high and low price is', df_2017['Max-i'].max())"
   ]
  },
  {
   "cell_type": "code",
   "execution_count": 50,
   "metadata": {},
   "outputs": [
    {
     "output_type": "stream",
     "name": "stdout",
     "text": [
      "The highest change based on high and low price is 9.515\n"
     ]
    }
   ],
   "source": [
    "# 5. What was the largest change between any two days (based on Closing Price)?\n",
    "df_2017['Max-i-c'] = df_2017['Close'].max() - df_2017['Close']\n",
    "df_2017['Min-i-c'] = df_2017['Close'] - df_2017['Close'].min()\n",
    "print('The highest change based on high and low price is', df_2017['Max-i-c'].max()/2)"
   ]
  },
  {
   "cell_type": "code",
   "execution_count": 48,
   "metadata": {},
   "outputs": [
    {
     "output_type": "stream",
     "name": "stdout",
     "text": [
      "The average daily trading volume during this year is 89124.34\n"
     ]
    }
   ],
   "source": [
    "# 6. What was the average daily trading volume during this year?\n",
    "print('The average daily trading volume during this year is', round(df_2017['Traded Volume'].mean(), 2))"
   ]
  },
  {
   "cell_type": "code",
   "execution_count": null,
   "metadata": {},
   "outputs": [],
   "source": []
  }
 ],
 "metadata": {
  "kernelspec": {
   "name": "python3",
   "display_name": "Python 3.8.3 64-bit ('base': conda)",
   "metadata": {
    "interpreter": {
     "hash": "94439d486f1d3dfeec33e1de8c79816fca1ff7d210b7f5b901b4098cf049baa6"
    }
   }
  },
  "language_info": {
   "codemirror_mode": {
    "name": "ipython",
    "version": 2
   },
   "file_extension": ".py",
   "mimetype": "text/x-python",
   "name": "python",
   "nbconvert_exporter": "python",
   "pygments_lexer": "ipython2",
   "version": "3.8.3-final"
  }
 },
 "nbformat": 4,
 "nbformat_minor": 2
}